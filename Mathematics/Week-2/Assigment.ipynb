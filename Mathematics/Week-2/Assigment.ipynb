{
 "cells": [
  {
   "cell_type": "markdown",
   "metadata": {},
   "source": [
    "## System of Linear Equations\n",
    "\n",
    "**After this assigment you will be able to:**\n",
    "* Use `NumPy` packages to set up arrays corresponding to the system of linear equations.\n",
    "* Evaluate the determinant of a matrix and find the solution of the system with `NumPy` linear algebra package.\n",
    "* Perform row reduction to bring matrix into row echelon from.\n",
    "* Find the solution for the system of linear equations using row reduced matrix."
   ]
  },
  {
   "cell_type": "markdown",
   "metadata": {},
   "source": [
    "### Packages"
   ]
  },
  {
   "cell_type": "code",
   "execution_count": 1,
   "metadata": {},
   "outputs": [],
   "source": [
    "import numpy as np"
   ]
  },
  {
   "cell_type": "markdown",
   "metadata": {},
   "source": [
    "Load the unit test defined specifically for this notebook"
   ]
  },
  {
   "cell_type": "code",
   "execution_count": 4,
   "metadata": {},
   "outputs": [],
   "source": [
    "import w2_unittest"
   ]
  },
  {
   "cell_type": "markdown",
   "metadata": {},
   "source": [
    "### 1 - System of Linear Equations and Corresponding `NumPy` Arrays\n",
    "\n",
    "Matrices can be used to solve systems of equations. But first, you need to represent the system using matrices. Given the following system of linear equations:\n",
    "\n",
    "$$\\begin{cases}\n",
    "2x_1 - x_2 + x_3 + x_4 = 6, \\\\\n",
    "x_1 + 2x_2 - x_3 - x_4 = 3, \\\\\n",
    "-x_1 + 2x_2 + 2x_3 + 2x_4 = 14, \\\\\n",
    "x_1 - x_2 + 2x_3 + x_4 = 8,\n",
    "\\end{cases}\\tag{1}$$\n",
    "\n",
    "you will construct a matrix $A$, where each row represents one equation in the system and each column represents a variable $x_1$,$x_2$,$x_3$,$x_4$. The free coefficient from the right sides of the equations you will put in a vector $b$"
   ]
  },
  {
   "cell_type": "markdown",
   "metadata": {},
   "source": [
    "##### Exercise 1\n",
    "\n",
    "Construct matrix $A$ and vector $b$ corresponding to the system of linear equations $(1)$"
   ]
  },
  {
   "cell_type": "code",
   "execution_count": 7,
   "metadata": {},
   "outputs": [
    {
     "name": "stdout",
     "output_type": "stream",
     "text": [
      "[[ 2. -1.  1.  1.]\n",
      " [ 1.  2. -1. -1.]\n",
      " [-1.  2.  2.  2.]\n",
      " [ 1. -1.  2.  1.]]\n",
      "[ 6.  3. 14.  8.]\n"
     ]
    }
   ],
   "source": [
    "A = np.array([\n",
    "  [2, -1, 1, 1],\n",
    "  [1, 2, -1, -1],\n",
    "  [-1, 2, 2, 2],\n",
    "  [1, -1, 2, 1]\n",
    "], dtype = np.dtype(float))\n",
    "\n",
    "b = np.array([6, 3, 14, 8], dtype = np.dtype(float))\n",
    "\n",
    "print(A)\n",
    "print(b)"
   ]
  },
  {
   "cell_type": "code",
   "execution_count": 8,
   "metadata": {},
   "outputs": [
    {
     "name": "stdout",
     "output_type": "stream",
     "text": [
      "\u001b[92m All tests passed\n"
     ]
    }
   ],
   "source": [
    "w2_unittest.test_matrix(A, b)"
   ]
  },
  {
   "cell_type": "markdown",
   "metadata": {},
   "source": [
    "### 2 - Solution for the System of Equations with `NumPy` Linear Algebra Package\n",
    "\n",
    "A system of four linear equations with four unknown variables has a unique solution if and only if the determinant of the corresponding matrix of coefficients is not equal to zero."
   ]
  },
  {
   "cell_type": "markdown",
   "metadata": {},
   "source": [
    "#### Exercise 2\n",
    "\n",
    "Find the determinant $d$ of matrix A and the solution vector $x$ for the system of linear equation $(1)$."
   ]
  },
  {
   "cell_type": "code",
   "execution_count": 14,
   "metadata": {},
   "outputs": [
    {
     "name": "stdout",
     "output_type": "stream",
     "text": [
      "-17.00\n"
     ]
    }
   ],
   "source": [
    "# Find the determinant of matrix A\n",
    "d_A = np.linalg.det(A)\n",
    "print(f\"{d_A:.2f}\")"
   ]
  },
  {
   "cell_type": "code",
   "execution_count": 15,
   "metadata": {},
   "outputs": [
    {
     "name": "stdout",
     "output_type": "stream",
     "text": [
      "[2. 3. 4. 1.]\n"
     ]
    }
   ],
   "source": [
    "# Find the solution of vector x for the system of linear equation\n",
    "x = np.linalg.solve(A, b)\n",
    "print(x)"
   ]
  },
  {
   "cell_type": "code",
   "execution_count": 18,
   "metadata": {},
   "outputs": [
    {
     "name": "stdout",
     "output_type": "stream",
     "text": [
      "\u001b[92m All tests passed\n"
     ]
    }
   ],
   "source": [
    "# test my solution\n",
    "w2_unittest.test_det_and_solution_scipy(d_A, x)"
   ]
  },
  {
   "cell_type": "markdown",
   "metadata": {},
   "source": [
    "### 3 - Elementary Operations and Row Reduction\n",
    "\n",
    "Here you will solve the system of linear equations algebraically using row reduction. It envolves combination of the equations using elementary operations, eliminaring as many variables as possible for each equation. There are three valid operations which can be performed to bring the system of equations to equivalent one (with the same solutions):\n",
    "\n",
    "* Multiply any row by non-zero number\n",
    "* Add tow rows and exchange one of the original rows with the result of the addition.\n",
    "* Swap rows"
   ]
  },
  {
   "cell_type": "markdown",
   "metadata": {},
   "source": [
    "#### Exercise 3\n",
    "\n",
    "Set up three functions corresponding to the discussed above elementary operations."
   ]
  },
  {
   "cell_type": "code",
   "execution_count": null,
   "metadata": {},
   "outputs": [],
   "source": [
    "def MultiplyRow(M, row_num, row_num_multiple):\n",
    "  # .copy() is required here to keep the original matrix without any changes\n",
    "  M_new = M.copy()\n",
    "\n",
    "  "
   ]
  }
 ],
 "metadata": {
  "kernelspec": {
   "display_name": "Python 3",
   "language": "python",
   "name": "python3"
  },
  "language_info": {
   "codemirror_mode": {
    "name": "ipython",
    "version": 3
   },
   "file_extension": ".py",
   "mimetype": "text/x-python",
   "name": "python",
   "nbconvert_exporter": "python",
   "pygments_lexer": "ipython3",
   "version": "3.12.3"
  }
 },
 "nbformat": 4,
 "nbformat_minor": 2
}
