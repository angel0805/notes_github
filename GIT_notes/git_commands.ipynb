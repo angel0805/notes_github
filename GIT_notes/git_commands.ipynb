{
 "cells": [
  {
   "cell_type": "markdown",
   "metadata": {},
   "source": [
    "### GIT Commands"
   ]
  },
  {
   "cell_type": "markdown",
   "metadata": {},
   "source": [
    "Initialize a new GIT repository.\n",
    "> `git init`"
   ]
  },
  {
   "cell_type": "markdown",
   "metadata": {},
   "source": [
    "Creates a local copy of a project that already exists remotely.\n",
    "> `git clone`"
   ]
  },
  {
   "cell_type": "markdown",
   "metadata": {},
   "source": [
    "Stages a change.\n",
    "> `git add`"
   ]
  },
  {
   "cell_type": "markdown",
   "metadata": {},
   "source": [
    "Saves the snapshot to the project history and completes the change-tracking process.\n",
    "> `git commit`\n",
    ">> Anything that's been staged with `git add` will become a part of the snapshot with `git commit`."
   ]
  },
  {
   "cell_type": "markdown",
   "metadata": {},
   "source": [
    "Shows the status of changes as untracked, modified, or stageded\n",
    "> `git status`"
   ]
  },
  {
   "cell_type": "markdown",
   "metadata": {},
   "source": [
    "Show the branches being worked locally\n",
    "> `git branch`"
   ]
  },
  {
   "cell_type": "markdown",
   "metadata": {},
   "source": [
    "This command is typically used to combine changes made on two distinct brances.\n",
    "> `git merge`"
   ]
  },
  {
   "cell_type": "markdown",
   "metadata": {},
   "source": [
    "Updates the local line of development with updates from its remote counterpart\n",
    "> `git pull`"
   ]
  },
  {
   "cell_type": "markdown",
   "metadata": {},
   "source": [
    "Updates the remote repository with any commits made locally to a branch\n",
    "> `git push`"
   ]
  },
  {
   "cell_type": "markdown",
   "metadata": {},
   "source": [
    "Shows a log of all commits starting from HEAD back to the initial commit\n",
    "> `git log`\n",
    ">> To exit press `q`"
   ]
  },
  {
   "cell_type": "markdown",
   "metadata": {},
   "source": [
    "Shows the difference between HEAD and the current project state\n",
    "> `git diff`"
   ]
  },
  {
   "cell_type": "markdown",
   "metadata": {},
   "source": [
    "To move or rename a file or directory in your repository\n",
    "\n",
    "> `git mv`\n",
    ">> Rename a file:\n",
    ">>> `git mv` old_filename.txt new_filename.txt\n",
    "\n",
    ">> Move a file to a new directory\n",
    ">>> `git mv` filename.txt new_directory/filename.txt"
   ]
  },
  {
   "cell_type": "markdown",
   "metadata": {},
   "source": [
    "To start a new branch from a particular commit\n",
    "\n",
    "> `git branch` new_head-name"
   ]
  },
  {
   "cell_type": "markdown",
   "metadata": {},
   "source": [
    "If you want to switch between branches\n",
    "> `git checkout` head-name"
   ]
  },
  {
   "cell_type": "markdown",
   "metadata": {},
   "source": [
    "Pendiente\n",
    "> `git reset`"
   ]
  }
 ],
 "metadata": {
  "language_info": {
   "name": "python"
  }
 },
 "nbformat": 4,
 "nbformat_minor": 2
}
