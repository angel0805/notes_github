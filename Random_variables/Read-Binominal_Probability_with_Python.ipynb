{
 "cells": [
  {
   "cell_type": "markdown",
   "metadata": {},
   "source": [
    "### Origin in Games"
   ]
  },
  {
   "cell_type": "markdown",
   "metadata": {},
   "source": [
    "#### PROBLEM\n",
    "\n",
    "The table below begins to explore these possible combinations. We will look at further examples with more possibles combinations, but this will get us started.\n",
    "\n",
    "| Sticks | # Ways to get 0 white | 1 white | 2 white | 3 white | 4 white | 5 white |\n",
    "| ------  | ------  | ------  | ------  | ------  | ------  | ------  |\n",
    "| 1 | 1 | 1 | na | na | na | na |\n",
    "| 2 | 1 | 2 | 1 | na | na | na |\n",
    "| 3 | 1 | 3 | 3 | 1 | na | na |\n",
    "| 4 | 1 | 4 | 6  | 4 | 1 | na |\n",
    "| 5 | ? | ? | ?  | ? | ? | ? |\n",
    "| 6 | ? | ? | ?  | ? | ? | ? |"
   ]
  },
  {
   "cell_type": "markdown",
   "metadata": {},
   "source": [
    "#### Binominal Distribution\n",
    "\n",
    "The problem above is one example of a morre general kind of distribution of events. We have 4 two-sided sticks. and we will treat these as 4 Bernoulli Trials. To determinate the probability of an outcome, we must:\n",
    "\n",
    "- Count how many ways there are for this specific outcome to occur.\n",
    "- Multiply this by the probability of successes and failures.\n",
    "\n",
    "As a function, we would have inputs that determine the outcome (success or failure, red or white, heads or tails, etc.), the number of successes and failures, and the probability of a success. Below we have the functional form:\n",
    "\n",
    "$$ f(k,n,p) = \\text{Pr}(k;n,p) = \\text{Pr}(X = k) = \\binom{n}{k} p^k(1 - p)^{n-k} $$\n",
    "\n",
    "We unpack this as follow:\n",
    "\n",
    "- $\\binom{n}{k}$ counts the number of ways an outcome can occur. For example, $\\binom{4}{2}$ could be interpreted as how many ways there are to get two white sticks from four total.\n",
    "\n",
    "- p^k is the probability of a success to the power of the number of successes. For example $\\frac{1}{2}^2$ would be interpreted as the probability of getting a white stick twice.\n",
    "\n",
    "- $(1-p)^k$ is the probability of a failure $n-k$ times. For example $(1 - \\frac{1}{2})^2$ can be interpreted as the probability of a black stick two out of four attempts."
   ]
  },
  {
   "cell_type": "markdown",
   "metadata": {},
   "source": [
    "#### Using the computer"
   ]
  },
  {
   "cell_type": "code",
   "execution_count": 3,
   "metadata": {},
   "outputs": [],
   "source": [
    "from scipy.special import comb"
   ]
  },
  {
   "cell_type": "code",
   "execution_count": 4,
   "metadata": {},
   "outputs": [
    {
     "data": {
      "text/plain": [
       "6.0"
      ]
     },
     "execution_count": 4,
     "metadata": {},
     "output_type": "execute_result"
    }
   ],
   "source": [
    "# ways to pick 2 things from 4\n",
    "comb(4, 2)"
   ]
  },
  {
   "cell_type": "code",
   "execution_count": 5,
   "metadata": {},
   "outputs": [
    {
     "data": {
      "text/plain": [
       "0.25"
      ]
     },
     "execution_count": 5,
     "metadata": {},
     "output_type": "execute_result"
    }
   ],
   "source": [
    "# Probability of success to the number of successes\n",
    "(1/2) ** 2"
   ]
  },
  {
   "cell_type": "code",
   "execution_count": 6,
   "metadata": {},
   "outputs": [
    {
     "data": {
      "text/plain": [
       "0.25"
      ]
     },
     "execution_count": 6,
     "metadata": {},
     "output_type": "execute_result"
    }
   ],
   "source": [
    "# Probability of failures to the number of failures\n",
    "(1/2)**2"
   ]
  },
  {
   "cell_type": "code",
   "execution_count": 7,
   "metadata": {},
   "outputs": [
    {
     "data": {
      "text/plain": [
       "0.375"
      ]
     },
     "execution_count": 7,
     "metadata": {},
     "output_type": "execute_result"
    }
   ],
   "source": [
    "# Put it all together\n",
    "n_choosen_k = comb(4, 2)\n",
    "p_to_the_k = (1/2)**2\n",
    "one_minus_p_to_the_n_minus_k = (1/2)**2\n",
    "\n",
    "# probability of getting 2 white sticks from four\n",
    "n_choosen_k * p_to_the_k * one_minus_p_to_the_n_minus_k"
   ]
  },
  {
   "cell_type": "markdown",
   "metadata": {},
   "source": [
    "### PROBLEMS\n",
    "\n",
    "#### Suppose we instead play the game of Sennet using 5 sticks."
   ]
  },
  {
   "cell_type": "code",
   "execution_count": 4,
   "metadata": {},
   "outputs": [],
   "source": [
    "from scipy.special import comb\n",
    "\n",
    "sticks = 5"
   ]
  },
  {
   "cell_type": "markdown",
   "metadata": {},
   "source": [
    "#### 1. How many ways are there to get three white sticks?"
   ]
  },
  {
   "cell_type": "code",
   "execution_count": 5,
   "metadata": {},
   "outputs": [
    {
     "name": "stdout",
     "output_type": "stream",
     "text": [
      "Ways to get three sticks: 10.0\n"
     ]
    }
   ],
   "source": [
    "print(f\"Ways to get three sticks: {comb(sticks, 3)}\")"
   ]
  },
  {
   "cell_type": "markdown",
   "metadata": {},
   "source": [
    "#### 2. What is the probability that we will get three white sticks?"
   ]
  },
  {
   "cell_type": "markdown",
   "metadata": {},
   "source": [
    "#### 3. Suppose we toss 10 coins. How many different outcomes contain exactly three heads?"
   ]
  },
  {
   "cell_type": "markdown",
   "metadata": {},
   "source": [
    "#### 4. Suppose we toss 20 coins. How many different outcomes contain exactly three heads?"
   ]
  },
  {
   "cell_type": "markdown",
   "metadata": {},
   "source": [
    "#### 5. Complete the next two rows of the table for sennet. Do you recognize a pattern?"
   ]
  }
 ],
 "metadata": {
  "kernelspec": {
   "display_name": "Python 3",
   "language": "python",
   "name": "python3"
  },
  "language_info": {
   "codemirror_mode": {
    "name": "ipython",
    "version": 3
   },
   "file_extension": ".py",
   "mimetype": "text/x-python",
   "name": "python",
   "nbconvert_exporter": "python",
   "pygments_lexer": "ipython3",
   "version": "3.12.3"
  }
 },
 "nbformat": 4,
 "nbformat_minor": 2
}
