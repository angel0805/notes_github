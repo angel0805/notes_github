{
 "cells": [
  {
   "cell_type": "markdown",
   "metadata": {},
   "source": [
    "## numpy.diag\n",
    "\n",
    "Extract a diagonal or construct a diagonal array.\n",
    "\n",
    "Parameters:\n",
    "\n",
    "> `v` : array_like\n",
    ">> If `v` is a 2 dimensional array, return a copy of its k-th diagonal.\n",
    ">> If `v` is a 1 dimensional array, return a 2 dimensional array with `v` on the k-th diagonal\n",
    "\n",
    "> `k` : int (optional)\n",
    ">> Diagonal in question. The default is 0. Use `k > 0` for diagonals above the main diagonal. And `k < 0` for diagonals below"
   ]
  },
  {
   "cell_type": "markdown",
   "metadata": {},
   "source": [
    "## numpy.unravel_index\n",
    "\n",
    "Converts a flat index or array of flat indices into a tuple of coordinate arrays.\n",
    "\n",
    "Parameters:\n",
    "\n",
    "> `indices` : array_like\n",
    ">> An integer array whose elements are indices into the flattened version of an array of dimensions shape.\n",
    "\n",
    "> `shape` : tuple of ints\n",
    ">> The shape of the array to use for unraveling indices\n",
    "\n",
    "> `order` : {'C', 'F'} optional"
   ]
  },
  {
   "cell_type": "code",
   "execution_count": 106,
   "metadata": {},
   "outputs": [
    {
     "name": "stdout",
     "output_type": "stream",
     "text": [
      "Original Matrix\n",
      "[[22  8  1 14]\n",
      " [20 23 26 11]\n",
      " [15 27 20 22]\n",
      " [29  2 10 20]]\n",
      "(array([0, 1]), array([1, 0]))\n",
      "Valores de la primera posicion [0 1]\n",
      "8\n",
      "Valores de la segunda posicion [1 0]\n",
      "20\n"
     ]
    }
   ],
   "source": [
    "import numpy as np\n",
    "\n",
    "# 2D matrix\n",
    "matrix = np.random.randint(1, 30, size = (4, 4))\n",
    "\n",
    "# indice\n",
    "positions_to_findout = [1, 4]\n",
    "\n",
    "# Original matrix\n",
    "print(\"Original Matrix\")\n",
    "print(matrix)\n",
    "\n",
    "# Guardamos los indices que queremos buscar\n",
    "my_indices = np.unravel_index(positions_to_findout, matrix.shape)\n",
    "print(my_indices)\n",
    "\n",
    "# Valor del primer elemento a buscar\n",
    "print(f\"Valores de la primera posicion {my_indices[0]}\")\n",
    "print(matrix[my_indices[0][0]][my_indices[0][1]])\n",
    "\n",
    "# Valor del segundo elemento a buscar\n",
    "print(f\"Valores de la segunda posicion {my_indices[1]}\")\n",
    "print(matrix[my_indices[1][0]][my_indices[1][1]])\n"
   ]
  },
  {
   "cell_type": "markdown",
   "metadata": {},
   "source": [
    "## numpy.tile\n",
    "\n",
    "Construct an array by repeating A the number of times given by reps\n",
    "\n",
    "Parameters:\n",
    "\n",
    "> `A` : array_like\n",
    ">> The input array.\n",
    "\n",
    "> `reps` : array_like\n",
    ">> The number of representations of A along each axis."
   ]
  },
  {
   "cell_type": "code",
   "execution_count": null,
   "metadata": {},
   "outputs": [],
   "source": [
    "# array\n",
    "a = np.array([1, 0])\n",
    "b = np.array([0, 1])\n",
    "\n",
    "# matrix 8x8\n",
    "checkerboard = np.tile(A = [a, b], reps = (4, 4))\n",
    "\n",
    "print(checkerboard)"
   ]
  },
  {
   "cell_type": "markdown",
   "metadata": {},
   "source": [
    "## numpy.dtype\n",
    "\n",
    "Create a data type object\n",
    "\n",
    "Parameters : \n",
    "\n",
    "> `dtype`\n",
    ">> Object to be converted to a data type object\n",
    "\n",
    "> `align` : bool, optional\n",
    "\n",
    "> `copy` : bool, optional\n",
    "\n",
    "> `metadata` : dict, optional"
   ]
  }
 ],
 "metadata": {
  "kernelspec": {
   "display_name": "Python 3",
   "language": "python",
   "name": "python3"
  },
  "language_info": {
   "codemirror_mode": {
    "name": "ipython",
    "version": 3
   },
   "file_extension": ".py",
   "mimetype": "text/x-python",
   "name": "python",
   "nbconvert_exporter": "python",
   "pygments_lexer": "ipython3",
   "version": "3.12.3"
  }
 },
 "nbformat": 4,
 "nbformat_minor": 2
}
