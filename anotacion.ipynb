{
 "cells": [
  {
   "cell_type": "markdown",
   "metadata": {},
   "source": [
    "Este es un codigo de Python para multiplicar 2 matrices, `matrix1` y `matrix2`, utilizando bucles `for` explicitos.\n",
    "\n",
    "Aqui esta el desglose paso a paso:\n",
    "\n",
    "##### 1. Definimos las matrices\n",
    "\n",
    "Las matrices `matrix1` y `matrix2` son listas de listas de Python. Cada lista interna representa una fila de la matriz."
   ]
  },
  {
   "cell_type": "code",
   "execution_count": 3,
   "metadata": {},
   "outputs": [],
   "source": [
    "import numpy as np"
   ]
  },
  {
   "cell_type": "code",
   "execution_count": 57,
   "metadata": {},
   "outputs": [],
   "source": [
    "matrix1 = [\n",
    "  [1, 7, 3],\n",
    "  [4, 5, 2],\n",
    "  [3, 6, 1]\n",
    "]\n",
    "\n",
    "matrix2 = [\n",
    "  [5, 4, 1],\n",
    "  [1, 2, 3],\n",
    "  [4, 5, 2]\n",
    "]"
   ]
  },
  {
   "cell_type": "markdown",
   "metadata": {},
   "source": [
    "##### 2. Inicializacion de la matriz resultado\n",
    "\n",
    "La matriz `res` se inicializa como una matriz de ceros del mismo tama;o que las matrices de entrada. Esta matriz almacenara el resultado de la multiplicacion de las matrices"
   ]
  },
  {
   "cell_type": "code",
   "execution_count": 58,
   "metadata": {},
   "outputs": [],
   "source": [
    "res = [[0 for x in range(3)] for y in range(3)]\n",
    "# output: [[0, 0, 0], [0, 0, 0], [0, 0, 0]]"
   ]
  },
  {
   "cell_type": "markdown",
   "metadata": {},
   "source": [
    "##### 3. Bucles for para la multiplicacion de matrices\n",
    "\n",
    "Aqui es donde ocurre la multiplicacion real de las matrices. Hay 3 bucles `for` anidados"
   ]
  },
  {
   "cell_type": "code",
   "execution_count": 63,
   "metadata": {},
   "outputs": [
    {
     "name": "stdout",
     "output_type": "stream",
     "text": [
      "[[48, 66, 56], [66, 72, 46], [50, 58, 46]]\n"
     ]
    }
   ],
   "source": [
    "for i in range(len(matrix1)):\n",
    "  for j in range(len(matrix2[0])):\n",
    "    for k in range(len(matrix2)):\n",
    "      res[i][j] += matrix1[i][k] * matrix2[k][j]\n",
    "\n",
    "print(res)"
   ]
  },
  {
   "cell_type": "markdown",
   "metadata": {},
   "source": [
    "> El primer bucle `for` recorre las filas de la `matrix1`\n",
    "\n",
    "> El segundo bucle `for` recorre las columnas de la `matrix2`\n",
    "\n",
    "> El tercer bucle `for` recorre las columnas de la `matrix1` y las filas de la `matrix2`\n",
    "\n",
    "> Dentro del tercer bucle, cada elemento de la `i` de la `matrix1` se multiplica por el elemento correspondiente de la columna `j` de la `matrix2`, y el resultado se suma al valor actual de `res[i][j]`"
   ]
  }
 ],
 "metadata": {
  "kernelspec": {
   "display_name": "Python 3",
   "language": "python",
   "name": "python3"
  },
  "language_info": {
   "codemirror_mode": {
    "name": "ipython",
    "version": 3
   },
   "file_extension": ".py",
   "mimetype": "text/x-python",
   "name": "python",
   "nbconvert_exporter": "python",
   "pygments_lexer": "ipython3",
   "version": "3.12.3"
  }
 },
 "nbformat": 4,
 "nbformat_minor": 2
}
